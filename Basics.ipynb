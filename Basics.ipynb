{
 "cells": [
  {
   "cell_type": "code",
   "execution_count": 1,
   "id": "a8b88bd7",
   "metadata": {},
   "outputs": [
    {
     "name": "stdout",
     "output_type": "stream",
     "text": [
      "0 even\n",
      "1 odd\n",
      "2 even\n",
      "3 odd\n",
      "4 even\n",
      "5 odd\n",
      "6 even\n",
      "7 odd\n",
      "8 even\n",
      "9 odd\n",
      "10 even\n",
      "11 odd\n",
      "12 even\n",
      "13 odd\n",
      "14 even\n",
      "15 odd\n",
      "16 even\n",
      "17 odd\n",
      "18 even\n",
      "19 odd\n",
      "20 even\n",
      "21 odd\n",
      "22 even\n",
      "23 odd\n",
      "24 even\n",
      "25 odd\n",
      "26 even\n",
      "27 odd\n",
      "28 even\n",
      "29 odd\n",
      "30 even\n",
      "31 odd\n",
      "32 even\n",
      "33 odd\n",
      "34 even\n",
      "35 odd\n",
      "36 even\n",
      "37 odd\n",
      "38 even\n",
      "39 odd\n",
      "40 even\n",
      "41 odd\n",
      "42 even\n",
      "43 odd\n",
      "44 even\n",
      "45 odd\n",
      "46 even\n",
      "47 odd\n",
      "48 even\n",
      "49 odd\n"
     ]
    }
   ],
   "source": [
    "i=0\n",
    "while i<50:\n",
    "    if i%2==0:\n",
    "        print(i,\"even\")\n",
    "    else:\n",
    "        print(i,\"odd\")\n",
    "    i=i+1"
   ]
  },
  {
   "cell_type": "code",
   "execution_count": 2,
   "id": "b715e03d",
   "metadata": {},
   "outputs": [
    {
     "name": "stdout",
     "output_type": "stream",
     "text": [
      "0 even\n",
      "1 odd\n",
      "2 even\n",
      "3 odd\n",
      "4 even\n",
      "5 odd\n",
      "6 even\n",
      "7 odd\n",
      "8 even\n",
      "9 odd\n",
      "10 even\n",
      "11 odd\n",
      "12 even\n",
      "13 odd\n",
      "14 even\n",
      "15 odd\n",
      "16 even\n",
      "17 odd\n",
      "18 even\n",
      "19 odd\n",
      "20 even\n",
      "21 odd\n",
      "22 even\n",
      "23 odd\n",
      "24 even\n",
      "25 odd\n",
      "26 even\n",
      "27 odd\n",
      "28 even\n",
      "29 odd\n",
      "30 even\n",
      "31 odd\n",
      "32 even\n",
      "33 odd\n",
      "34 even\n",
      "35 odd\n",
      "36 even\n",
      "37 odd\n",
      "38 even\n",
      "39 odd\n",
      "40 even\n",
      "41 odd\n",
      "42 even\n",
      "43 odd\n",
      "44 even\n",
      "45 odd\n",
      "46 even\n",
      "47 odd\n",
      "48 even\n",
      "49 odd\n",
      "50 even\n",
      "51 odd\n",
      "52 even\n",
      "53 odd\n",
      "54 even\n",
      "55 odd\n",
      "56 even\n",
      "57 odd\n",
      "58 even\n",
      "59 odd\n",
      "60 even\n",
      "61 odd\n",
      "62 even\n",
      "63 odd\n",
      "64 even\n",
      "65 odd\n",
      "66 even\n",
      "67 odd\n",
      "68 even\n",
      "69 odd\n",
      "70 even\n",
      "71 odd\n",
      "72 even\n",
      "73 odd\n",
      "74 even\n",
      "75 odd\n",
      "76 even\n",
      "77 odd\n",
      "78 even\n",
      "79 odd\n",
      "80 even\n",
      "81 odd\n",
      "82 even\n",
      "83 odd\n",
      "84 even\n",
      "85 odd\n",
      "86 even\n",
      "87 odd\n",
      "88 even\n",
      "89 odd\n",
      "90 even\n",
      "91 odd\n",
      "92 even\n",
      "93 odd\n",
      "94 even\n",
      "95 odd\n",
      "96 even\n",
      "97 odd\n",
      "98 even\n",
      "99 odd\n"
     ]
    }
   ],
   "source": [
    "for i in range(100):\n",
    "    if(i%2==0):\n",
    "        print(i,\"even\")\n",
    "    else:\n",
    "        print(i,\"odd\")"
   ]
  },
  {
   "cell_type": "code",
   "execution_count": 40,
   "id": "b028ef70",
   "metadata": {},
   "outputs": [
    {
     "name": "stdout",
     "output_type": "stream",
     "text": [
      "0\n",
      "1\n",
      "2\n",
      "6\n",
      "24\n"
     ]
    }
   ],
   "source": [
    "def recur_fact(n):\n",
    "    if n<=1:\n",
    "        return(n)\n",
    "    else:\n",
    "        return(n*recur_fact(n-1))\n",
    "n=5\n",
    "for i in range(n):\n",
    "    print(recur_fact(i))"
   ]
  },
  {
   "cell_type": "code",
   "execution_count": 3,
   "id": "d7c13d7a",
   "metadata": {},
   "outputs": [
    {
     "name": "stdout",
     "output_type": "stream",
     "text": [
      "[10, 56] [4.5, 45.6] ['read', 'IOT']\n"
     ]
    }
   ],
   "source": [
    "list=[10,\"read\",56,4.5,\"IOT\",45.6]\n",
    "# SEPERATING THE ELEMENTS OF LIST ACCORDING TO DATA TYPE\n",
    "intlist=[]\n",
    "strlist=[]\n",
    "floatlist=[]\n",
    "for i in list:\n",
    "    if type(i)==str:\n",
    "        strlist.append(i)\n",
    "    elif type(i)==int:\n",
    "        intlist.append(i)\n",
    "    else:\n",
    "        floatlist.append(i)\n",
    "print(intlist,floatlist,strlist)       "
   ]
  },
  {
   "cell_type": "code",
   "execution_count": 4,
   "id": "fd19eac0",
   "metadata": {},
   "outputs": [
    {
     "name": "stdout",
     "output_type": "stream",
     "text": [
      "[10, 56] ['read', 'IOT'] [4.5, 45.6]\n"
     ]
    }
   ],
   "source": [
    "#create function that will seperate the elements of the list according to datatype\n",
    "intlist=[i for i in list if type(i)==int]\n",
    "strlist=[i for i in list if type(i)==str]\n",
    "floatlist=[i for i in list if type(i)==float]\n",
    "print(intlist,strlist,floatlist)"
   ]
  },
  {
   "cell_type": "code",
   "execution_count": 5,
   "id": "ccec5194",
   "metadata": {},
   "outputs": [
    {
     "name": "stdout",
     "output_type": "stream",
     "text": [
      "[10, 56]\n",
      "[4.5, 45.6]\n",
      "['read', 'IOT']\n"
     ]
    }
   ],
   "source": [
    "def seperate(x):\n",
    "    intlist=[i for i in list if type(i)==int]\n",
    "    strlist=[i for i in list if type(i)==str]\n",
    "    floatlist=[i for i in list if type(i)==float]\n",
    "    return intlist,floatlist,strlist\n",
    "y=[12,'thr',9.56,56]\n",
    "sep_list=seperate(y)\n",
    "for i in sep_list:\n",
    "    print(i)\n"
   ]
  },
  {
   "cell_type": "code",
   "execution_count": 6,
   "id": "9bae0621",
   "metadata": {},
   "outputs": [
    {
     "name": "stdout",
     "output_type": "stream",
     "text": [
      "55\n"
     ]
    }
   ],
   "source": [
    "#Recursive function\n",
    "def recursum(n):\n",
    "    if n<=1:\n",
    "        return n\n",
    "    return n + recursum(n-1)\n",
    "n=10\n",
    "print(recursum(n))"
   ]
  },
  {
   "cell_type": "code",
   "execution_count": 7,
   "id": "b8d04b6b",
   "metadata": {},
   "outputs": [
    {
     "name": "stdout",
     "output_type": "stream",
     "text": [
      "0\n",
      "1\n",
      "1\n",
      "2\n",
      "3\n"
     ]
    }
   ],
   "source": [
    "#recursive fibonacci\n",
    "def recur_fib(n):\n",
    "    if n <=1:\n",
    "        return (n)\n",
    "    else:\n",
    "        return(recur_fib(n-1) + recur_fib(n-2))\n",
    "n=5\n",
    "for i in range(n):\n",
    "    print(recur_fib(i))"
   ]
  },
  {
   "cell_type": "code",
   "execution_count": 8,
   "id": "983cd2cf",
   "metadata": {},
   "outputs": [
    {
     "name": "stdout",
     "output_type": "stream",
     "text": [
      "0\n",
      "1\n",
      "2\n",
      "3\n",
      "4\n",
      "5\n",
      "6\n",
      "7\n",
      "8\n",
      "9\n",
      "10\n",
      "11\n",
      "12\n",
      "13\n",
      "14\n",
      "15\n",
      "16\n",
      "17\n",
      "18\n",
      "19\n",
      "20\n",
      "21\n",
      "22\n",
      "23\n",
      "24\n",
      "25\n",
      "26\n",
      "27\n",
      "28\n",
      "29\n",
      "30\n",
      "31\n",
      "32\n",
      "33\n",
      "34\n",
      "35\n",
      "36\n",
      "37\n",
      "38\n",
      "39\n",
      "40\n",
      "41\n",
      "42\n",
      "43\n",
      "44\n",
      "45\n",
      "46\n",
      "47\n",
      "48\n",
      "49\n",
      "50\n",
      "51\n",
      "52\n",
      "53\n",
      "54\n",
      "55\n",
      "56\n",
      "57\n",
      "58\n",
      "59\n",
      "60\n",
      "61\n",
      "62\n",
      "63\n",
      "64\n",
      "65\n",
      "66\n",
      "67\n",
      "68\n",
      "69\n",
      "70\n",
      "71\n",
      "72\n",
      "73\n",
      "74\n",
      "75\n",
      "76\n",
      "77\n",
      "78\n",
      "79\n",
      "80\n",
      "81\n",
      "82\n",
      "83\n",
      "84\n",
      "85\n",
      "86\n",
      "87\n",
      "88\n",
      "89\n",
      "90\n",
      "91\n",
      "92\n",
      "93\n",
      "94\n",
      "95\n",
      "96\n",
      "97\n",
      "98\n",
      "99\n"
     ]
    }
   ],
   "source": [
    "def gen_num(n):\n",
    "    v=0\n",
    "    while v < n:\n",
    "        yield v\n",
    "        v+=1\n",
    "for v in gen_num(100):\n",
    "        print(v)"
   ]
  },
  {
   "cell_type": "code",
   "execution_count": 9,
   "id": "93cf01c5",
   "metadata": {},
   "outputs": [
    {
     "name": "stdout",
     "output_type": "stream",
     "text": [
      "The sum of my_list is: 15\n"
     ]
    }
   ],
   "source": [
    "# Write a function that will give sum of numbers of the list\n",
    "def Sum_Of_List(x):\n",
    "    tot=0\n",
    "    for val in x:\n",
    "        tot=tot+val\n",
    "    return tot\n",
    "my_List=[1,2,3,4,5]\n",
    "print(\"The sum of my_list is:\",Sum_Of_List(my_List))"
   ]
  },
  {
   "cell_type": "code",
   "execution_count": 10,
   "id": "65868aff",
   "metadata": {},
   "outputs": [
    {
     "name": "stdout",
     "output_type": "stream",
     "text": [
      "The number of vowels in the given string is: 6\n"
     ]
    }
   ],
   "source": [
    "# Write the function that will give count of vowels that is present in the given string/text\n",
    "# Not using predefined python libraries\n",
    "def vowelCount(string):\n",
    "    vowels=\"aeiou\"\n",
    "    count=0\n",
    "    for x in string:\n",
    "        if x in vowels:\n",
    "            count+=1\n",
    "    return count\n",
    "string=\"Hi How are you\"\n",
    "print(\"The number of vowels in the given string is:\",vowelCount(string))\n",
    "    \n",
    "    \n",
    "\n"
   ]
  },
  {
   "cell_type": "code",
   "execution_count": 11,
   "id": "f34ea17c",
   "metadata": {},
   "outputs": [
    {
     "data": {
      "text/plain": [
       "dict"
      ]
     },
     "execution_count": 11,
     "metadata": {},
     "output_type": "execute_result"
    }
   ],
   "source": [
    "dict1={\"jay\":[1998,\"hyderabad\"],\"lalitha\":[2003,\"Hyderabad\"],\"valli\":[2004,\"Delhi\"],\"sri\":[2005,\"Mumbai\"]}\n",
    "type(dict1)"
   ]
  },
  {
   "cell_type": "code",
   "execution_count": 12,
   "id": "0d8e2f2f",
   "metadata": {},
   "outputs": [
    {
     "data": {
      "text/plain": [
       "0"
      ]
     },
     "execution_count": 12,
     "metadata": {},
     "output_type": "execute_result"
    }
   ],
   "source": [
    "count=0\n",
    "for i in dict1.keys():\n",
    "    if type(dict1[i])==list:\n",
    "        count=count+1\n",
    "count\n"
   ]
  },
  {
   "cell_type": "code",
   "execution_count": 13,
   "id": "4c1ac511",
   "metadata": {},
   "outputs": [
    {
     "name": "stdout",
     "output_type": "stream",
     "text": [
      "Your code has error\n"
     ]
    }
   ],
   "source": [
    "#exception Handling\n",
    "x=50\n",
    "y=0\n",
    "try:\n",
    "    x/y\n",
    "except:\n",
    "    print(\"Your code has error\")"
   ]
  },
  {
   "cell_type": "code",
   "execution_count": 14,
   "id": "33b9a7f0",
   "metadata": {},
   "outputs": [
    {
     "name": "stdout",
     "output_type": "stream",
     "text": [
      "Enter any number2\n",
      "Enter any number3\n",
      "0.6666666666666666\n",
      "You code has run successfully\n"
     ]
    }
   ],
   "source": [
    "x=int(input(\"Enter any number\"))\n",
    "y=int(input(\"Enter any number\"))\n",
    "try:\n",
    "    x/y\n",
    "except:\n",
    "    print(\"Your code has error\")\n",
    "else:\n",
    "    print(x/y)\n",
    "finally:\n",
    "    print(\"You code has run successfully\")"
   ]
  },
  {
   "cell_type": "code",
   "execution_count": 15,
   "id": "d6222761",
   "metadata": {},
   "outputs": [
    {
     "data": {
      "text/html": [
       "<div>\n",
       "<style scoped>\n",
       "    .dataframe tbody tr th:only-of-type {\n",
       "        vertical-align: middle;\n",
       "    }\n",
       "\n",
       "    .dataframe tbody tr th {\n",
       "        vertical-align: top;\n",
       "    }\n",
       "\n",
       "    .dataframe thead th {\n",
       "        text-align: right;\n",
       "    }\n",
       "</style>\n",
       "<table border=\"1\" class=\"dataframe\">\n",
       "  <thead>\n",
       "    <tr style=\"text-align: right;\">\n",
       "      <th></th>\n",
       "      <th>jay</th>\n",
       "      <th>lalitha</th>\n",
       "      <th>valli</th>\n",
       "      <th>sri</th>\n",
       "    </tr>\n",
       "  </thead>\n",
       "  <tbody>\n",
       "    <tr>\n",
       "      <th>0</th>\n",
       "      <td>1998</td>\n",
       "      <td>2003</td>\n",
       "      <td>2004</td>\n",
       "      <td>2005</td>\n",
       "    </tr>\n",
       "    <tr>\n",
       "      <th>1</th>\n",
       "      <td>hyderabad</td>\n",
       "      <td>Hyderabad</td>\n",
       "      <td>Delhi</td>\n",
       "      <td>Mumbai</td>\n",
       "    </tr>\n",
       "  </tbody>\n",
       "</table>\n",
       "</div>"
      ],
      "text/plain": [
       "         jay    lalitha  valli     sri\n",
       "0       1998       2003   2004    2005\n",
       "1  hyderabad  Hyderabad  Delhi  Mumbai"
      ]
     },
     "execution_count": 15,
     "metadata": {},
     "output_type": "execute_result"
    }
   ],
   "source": [
    "dict1={\"jay\":[1998,\"hyderabad\"],\"lalitha\":[2003,\"Hyderabad\"],\"valli\":[2004,\"Delhi\"],\"sri\":[2005,\"Mumbai\"]}\n",
    "import pandas as pd\n",
    "df=pd.DataFrame(dict1)\n",
    "df"
   ]
  },
  {
   "cell_type": "code",
   "execution_count": 16,
   "id": "e0b786e2",
   "metadata": {},
   "outputs": [],
   "source": [
    "df.to_csv(\"dictionary.csv\")"
   ]
  },
  {
   "cell_type": "code",
   "execution_count": 17,
   "id": "d4eef6ac",
   "metadata": {},
   "outputs": [],
   "source": [
    "df.to_excel(\"dictionary.xlsx\")"
   ]
  },
  {
   "cell_type": "code",
   "execution_count": 18,
   "id": "87f36a67",
   "metadata": {},
   "outputs": [],
   "source": [
    "file=open(\"text1.txt\",'w')\n",
    "file.write(\"This is the first line\")\n",
    "file.close()\n"
   ]
  },
  {
   "cell_type": "code",
   "execution_count": 19,
   "id": "3625e19f",
   "metadata": {},
   "outputs": [
    {
     "data": {
      "text/plain": [
       "'This is the first line'"
      ]
     },
     "execution_count": 19,
     "metadata": {},
     "output_type": "execute_result"
    }
   ],
   "source": [
    "file=open(\"text1.txt\",'r')\n",
    "file.read()"
   ]
  },
  {
   "cell_type": "code",
   "execution_count": 20,
   "id": "b9eed102",
   "metadata": {},
   "outputs": [
    {
     "name": "stdout",
     "output_type": "stream",
     "text": [
      "This is the first line\n"
     ]
    }
   ],
   "source": [
    "with open(\"text1.txt\",'r') as file:\n",
    "    print(file.read())"
   ]
  },
  {
   "cell_type": "code",
   "execution_count": 21,
   "id": "d8eb62fe",
   "metadata": {},
   "outputs": [
    {
     "name": "stdout",
     "output_type": "stream",
     "text": [
      "['This', 'is', 'the', 'first', 'line']\n"
     ]
    }
   ],
   "source": [
    "with open(\"text1.txt\",'r') as file:\n",
    "    word_list=file.read().split()\n",
    "    print(word_list)"
   ]
  },
  {
   "cell_type": "code",
   "execution_count": 22,
   "id": "9c34ad8e",
   "metadata": {},
   "outputs": [
    {
     "name": "stdout",
     "output_type": "stream",
     "text": [
      "['This', 'is', 'the', 'first', 'line']\n",
      "This 4\n",
      "is 2\n",
      "the 3\n",
      "first 5\n",
      "line 4\n"
     ]
    }
   ],
   "source": [
    "#Find the longest word in the file\n",
    "with open(\"text1.txt\",'r') as file:\n",
    "    word_list=file.read().split()\n",
    "    print(word_list)\n",
    "    for i in word_list:\n",
    "        print(i,len(i))"
   ]
  },
  {
   "cell_type": "code",
   "execution_count": 23,
   "id": "cfa80942",
   "metadata": {},
   "outputs": [
    {
     "name": "stdout",
     "output_type": "stream",
     "text": [
      "['This', 'is', 'the', 'first', 'line']\n",
      "This 4\n",
      "is 2\n",
      "the 3\n",
      "first 5\n",
      "line 4\n",
      "Longest word is: the\n"
     ]
    }
   ],
   "source": [
    "with open(\"text1.txt\",'r') as file:\n",
    "    word_list=file.read().split()\n",
    "    print(word_list)\n",
    "    len_word=[]\n",
    "    for i in word_list:\n",
    "        print(i,len(i))\n",
    "    print(\"Longest word is:\",max(word_list))\n",
    "    "
   ]
  },
  {
   "cell_type": "code",
   "execution_count": 24,
   "id": "5147cec6",
   "metadata": {},
   "outputs": [
    {
     "name": "stdout",
     "output_type": "stream",
     "text": [
      "The longest word is: text1.txt\n"
     ]
    }
   ],
   "source": [
    "def longest_word(file):\n",
    "    with open('file','r') as f:\n",
    "        words=f.read().split()\n",
    "        return(max(words,key=len))\n",
    "print(\"The longest word is:\",(\"text1.txt\"))"
   ]
  },
  {
   "cell_type": "code",
   "execution_count": 25,
   "id": "fcf5d9ec",
   "metadata": {},
   "outputs": [
    {
     "data": {
      "text/html": [
       "<div>\n",
       "<style scoped>\n",
       "    .dataframe tbody tr th:only-of-type {\n",
       "        vertical-align: middle;\n",
       "    }\n",
       "\n",
       "    .dataframe tbody tr th {\n",
       "        vertical-align: top;\n",
       "    }\n",
       "\n",
       "    .dataframe thead th {\n",
       "        text-align: right;\n",
       "    }\n",
       "</style>\n",
       "<table border=\"1\" class=\"dataframe\">\n",
       "  <thead>\n",
       "    <tr style=\"text-align: right;\">\n",
       "      <th></th>\n",
       "      <th>Unnamed: 0</th>\n",
       "      <th>jay</th>\n",
       "      <th>lalitha</th>\n",
       "      <th>valli</th>\n",
       "      <th>sri</th>\n",
       "    </tr>\n",
       "  </thead>\n",
       "  <tbody>\n",
       "    <tr>\n",
       "      <th>0</th>\n",
       "      <td>0</td>\n",
       "      <td>1998</td>\n",
       "      <td>2003</td>\n",
       "      <td>2004</td>\n",
       "      <td>2005</td>\n",
       "    </tr>\n",
       "    <tr>\n",
       "      <th>1</th>\n",
       "      <td>1</td>\n",
       "      <td>hyderabad</td>\n",
       "      <td>Hyderabad</td>\n",
       "      <td>Delhi</td>\n",
       "      <td>Mumbai</td>\n",
       "    </tr>\n",
       "  </tbody>\n",
       "</table>\n",
       "</div>"
      ],
      "text/plain": [
       "   Unnamed: 0        jay    lalitha  valli     sri\n",
       "0           0       1998       2003   2004    2005\n",
       "1           1  hyderabad  Hyderabad  Delhi  Mumbai"
      ]
     },
     "execution_count": 25,
     "metadata": {},
     "output_type": "execute_result"
    }
   ],
   "source": [
    "df=pd.read_csv(\"dictionary.csv\")\n",
    "df"
   ]
  },
  {
   "cell_type": "code",
   "execution_count": 26,
   "id": "7461aca3",
   "metadata": {},
   "outputs": [],
   "source": [
    "def longest_word(file):\n",
    "    try:\n",
    "        with open(file,'r') as f:\n",
    "            words=f.read().split()\n",
    "    except:\n",
    "        return \"check the file\"\n",
    "    else:\n",
    "        return(max(words,key=len))\n",
    "    print(longest_word(\"C:\\\\Users\\\\datta\\\\OneDrive\\\\Desktop\\\\Pavani\\\\New folder\"))\n",
    "\n",
    "    "
   ]
  },
  {
   "cell_type": "code",
   "execution_count": 27,
   "id": "f88542db",
   "metadata": {},
   "outputs": [
    {
     "data": {
      "text/plain": [
       "100"
      ]
     },
     "execution_count": 27,
     "metadata": {},
     "output_type": "execute_result"
    }
   ],
   "source": [
    "#lambda functions\n",
    "t = lambda r: r**2\n",
    "t(10)"
   ]
  },
  {
   "cell_type": "code",
   "execution_count": 36,
   "id": "c18130c6",
   "metadata": {},
   "outputs": [
    {
     "name": "stdout",
     "output_type": "stream",
     "text": [
      "[['Apples', 98], ['Grapes', 140], ['Mango', 200]]\n"
     ]
    }
   ],
   "source": [
    "fruit_list=[[\"Mango\",200],[\"Grapes\",140],[\"Apples\",98]]\n",
    "#sort the list depending on the quantity\n",
    "fruit_list.sort(key=lambda i:i[1])\n",
    "print(fruit_list)"
   ]
  },
  {
   "cell_type": "code",
   "execution_count": 37,
   "id": "9c42b944",
   "metadata": {},
   "outputs": [
    {
     "name": "stdout",
     "output_type": "stream",
     "text": [
      "[['Apples', 98], ['Grapes', 140], ['Mango', 200]]\n"
     ]
    }
   ],
   "source": [
    "fruit_list=[[\"Mango\",200],[\"Grapes\",140],[\"Apples\",98]]\n",
    "#sort the list depending on the quantity\n",
    "fruit_list.sort()\n",
    "print(fruit_list)"
   ]
  },
  {
   "cell_type": "code",
   "execution_count": 38,
   "id": "6076f053",
   "metadata": {},
   "outputs": [
    {
     "name": "stdout",
     "output_type": "stream",
     "text": [
      "Enter any string:she sea shells on the sea shore\n"
     ]
    }
   ],
   "source": [
    "#calculate the number of upper case letters and lower case alphabets of the given string\n",
    "#String: she sells seashells on the seashore\n",
    "n=input(\"Enter any string:\")\n",
    "lower=0\n",
    "upper=0\n",
    "for i in n:\n",
    "    if(i.islower())==True:\n",
    "        lower+=1\n",
    "    else:\n",
    "        upper+=1\n"
   ]
  },
  {
   "cell_type": "code",
   "execution_count": 39,
   "id": "8a5efab3",
   "metadata": {},
   "outputs": [
    {
     "name": "stdout",
     "output_type": "stream",
     "text": [
      "The number of lowercase charecters is: 30\n",
      "The number of uppercase characters is: 5\n"
     ]
    }
   ],
   "source": [
    "str=\"she sells seashells on the seashore\"\n",
    "lower=0\n",
    "upper=0\n",
    "for i in str:\n",
    "    if(i.islower()):\n",
    "        lower+=1\n",
    "    else:\n",
    "        upper+=1\n",
    "print(\"The number of lowercase charecters is:\",lower)\n",
    "print(\"The number of uppercase characters is:\",upper)"
   ]
  },
  {
   "cell_type": "code",
   "execution_count": null,
   "id": "0988e097",
   "metadata": {},
   "outputs": [],
   "source": []
  }
 ],
 "metadata": {
  "kernelspec": {
   "display_name": "Python 3 (ipykernel)",
   "language": "python",
   "name": "python3"
  },
  "language_info": {
   "codemirror_mode": {
    "name": "ipython",
    "version": 3
   },
   "file_extension": ".py",
   "mimetype": "text/x-python",
   "name": "python",
   "nbconvert_exporter": "python",
   "pygments_lexer": "ipython3",
   "version": "3.11.5"
  }
 },
 "nbformat": 4,
 "nbformat_minor": 5
}
