{
  "nbformat": 4,
  "nbformat_minor": 0,
  "metadata": {
    "colab": {
      "provenance": []
    },
    "kernelspec": {
      "name": "python3",
      "display_name": "Python 3"
    },
    "language_info": {
      "name": "python"
    }
  },
  "cells": [
    {
      "cell_type": "code",
      "execution_count": null,
      "metadata": {
        "id": "21ElOMzvTyKI"
      },
      "outputs": [],
      "source": [
        "import pandas as pd\n",
        "import numpy as np\n",
        "import matplotlib.pyplot as plt\n",
        "import seaborn as sns\n",
        "import warnings\n",
        "warnings.filterwarnings('ignore')"
      ]
    },
    {
      "cell_type": "code",
      "source": [
        "df=pd.read_csv(\"/content/Position Salary .csv\")\n",
        "print(df)"
      ],
      "metadata": {
        "colab": {
          "base_uri": "https://localhost:8080/"
        },
        "id": "PJMdJp5WUT9O",
        "outputId": "9a347411-74b0-485f-bd4c-baf935efd85f"
      },
      "execution_count": null,
      "outputs": [
        {
          "output_type": "stream",
          "name": "stdout",
          "text": [
            "            Position  Level  Salary\n",
            "0   Busienss Analyst      1   45000\n",
            "1  Junior Consultant      2   50000\n",
            "2  Senior Consultant      3   60000\n",
            "3            Manager      4  120000\n",
            "4    Country Manager      5  140000\n",
            "5     Region Manager      6  130000\n",
            "6            Partnor      7  100000\n",
            "7     Senior Partnor      8   90000\n",
            "8            C Level      9   95000\n",
            "9               CEO      10   85000\n"
          ]
        }
      ]
    },
    {
      "cell_type": "code",
      "source": [
        "from sklearn.ensemble import RandomForestRegressor"
      ],
      "metadata": {
        "id": "P9SApx8sW2B5"
      },
      "execution_count": null,
      "outputs": []
    },
    {
      "cell_type": "code",
      "source": [
        "pip install scikit-learn"
      ],
      "metadata": {
        "colab": {
          "base_uri": "https://localhost:8080/"
        },
        "id": "1wz81zBJW3mU",
        "outputId": "167d4e0c-94dd-4c6f-948e-596fc9af2ece"
      },
      "execution_count": null,
      "outputs": [
        {
          "output_type": "stream",
          "name": "stdout",
          "text": [
            "Requirement already satisfied: scikit-learn in /usr/local/lib/python3.10/dist-packages (1.2.2)\n",
            "Requirement already satisfied: numpy>=1.17.3 in /usr/local/lib/python3.10/dist-packages (from scikit-learn) (1.25.2)\n",
            "Requirement already satisfied: scipy>=1.3.2 in /usr/local/lib/python3.10/dist-packages (from scikit-learn) (1.11.4)\n",
            "Requirement already satisfied: joblib>=1.1.1 in /usr/local/lib/python3.10/dist-packages (from scikit-learn) (1.4.0)\n",
            "Requirement already satisfied: threadpoolctl>=2.0.0 in /usr/local/lib/python3.10/dist-packages (from scikit-learn) (3.5.0)\n"
          ]
        }
      ]
    },
    {
      "cell_type": "code",
      "source": [
        "#RandomForestRegressor\n",
        "from sklearn.ensemble import RandomForestRegressor\n",
        "from sklearn.model_selection import train_test_split\n",
        "from sklearn.metrics import mean_squared_error\n",
        "x_train, x_test, y_train, y_test = train_test_split(x, y, test_size=0.2, random_state=42)\n"
      ],
      "metadata": {
        "id": "36W9XiKJW8E_"
      },
      "execution_count": null,
      "outputs": []
    },
    {
      "cell_type": "code",
      "source": [
        "print(x_train.shape)\n",
        "print(x_test.shape)\n",
        "print(y_train.shape)\n",
        "print(y_test.shape)"
      ],
      "metadata": {
        "colab": {
          "base_uri": "https://localhost:8080/"
        },
        "id": "02XsQI8jXaFM",
        "outputId": "2542042b-0a14-4baf-869c-8980169e80cb"
      },
      "execution_count": null,
      "outputs": [
        {
          "output_type": "stream",
          "name": "stdout",
          "text": [
            "(800, 10)\n",
            "(200, 10)\n",
            "(800,)\n",
            "(200,)\n"
          ]
        }
      ]
    },
    {
      "cell_type": "code",
      "source": [
        "model=RandomForestRegressor()\n",
        "model=model.fit(x_train,y_train)\n",
        "y_pred=model.predict(x_test)\n",
        "y_pred"
      ],
      "metadata": {
        "colab": {
          "base_uri": "https://localhost:8080/"
        },
        "id": "zPRKZnqgXreO",
        "outputId": "ecb43ccb-99c0-4b7b-f1b9-3b2f2ebb8b2e"
      },
      "execution_count": null,
      "outputs": [
        {
          "output_type": "execute_result",
          "data": {
            "text/plain": [
              "array([-1.00171062e+01,  5.67687216e+01, -8.13568247e+01, -2.56952245e+02,\n",
              "       -4.68086125e+01,  2.62002724e+01, -1.36986406e+02, -2.07464222e+01,\n",
              "       -1.45230852e+01,  1.37696551e+02, -2.37317022e+02, -3.01792333e+01,\n",
              "        5.30622995e+01, -1.03620045e+02,  8.30059055e+01, -1.80726558e+02,\n",
              "       -8.14482379e+01,  3.07270419e+00,  7.36272725e+01, -7.88797008e+01,\n",
              "        7.33212760e+01,  1.42195282e+02,  1.46520909e+02, -4.74799119e+01,\n",
              "        1.78114067e+02, -3.48953143e+01, -2.20185531e+02,  1.56702361e+02,\n",
              "        8.86208706e+01,  1.93993642e+02,  1.79700165e+02, -1.05855555e+02,\n",
              "       -6.98920850e+01,  4.87692391e+01, -7.29951355e+01, -1.35814067e+02,\n",
              "       -1.48611578e+01, -2.18166466e+01,  4.63148281e+01, -8.29113163e+01,\n",
              "        4.29258228e+01,  1.39086621e-02,  2.11091097e+01,  6.18404556e+01,\n",
              "       -1.05506295e+02, -3.41586881e+00, -1.03340943e+02, -2.18501869e+01,\n",
              "        7.03955352e+01, -9.35380700e+01, -5.89029780e+00,  1.37426962e+02,\n",
              "        1.87730407e+02, -2.87538104e+01, -8.44674437e+01, -1.02152135e+02,\n",
              "        9.57304466e+01,  7.40731822e+01,  4.45195313e+01, -1.99355337e+01,\n",
              "       -3.59416371e+01, -4.56528827e+00, -4.74945723e+01, -1.17917436e+02,\n",
              "        8.53963220e+01,  1.31603024e+02,  2.36631510e+02,  5.21514720e+01,\n",
              "        5.62752271e+01,  5.62486089e+01,  4.07256021e+01,  1.27630230e+01,\n",
              "        4.89927026e+01, -4.59875835e+01, -1.61682346e+02, -9.84313229e+00,\n",
              "        2.41621945e+00, -7.29266606e+01,  1.42933176e+02, -9.82115225e+01,\n",
              "        4.21001905e+01,  1.45937203e+01, -1.99336936e+02, -2.43336692e+01,\n",
              "        2.50200593e+01, -1.76137331e+02,  3.27964375e+01,  2.21808817e+02,\n",
              "       -8.42996924e+01, -9.28734483e+01,  8.35850537e+01,  3.06119178e+01,\n",
              "        7.34219477e+01,  1.72159211e+02,  1.02975671e+02,  1.28015714e+02,\n",
              "        2.14553618e+02, -1.88356702e+02, -1.18500949e+02, -9.39992715e+00,\n",
              "        1.82342281e+02, -3.67502281e+01,  9.51683879e+00,  1.53248851e+01,\n",
              "       -8.31725404e+01,  2.18447738e+01, -1.16388929e+02, -1.10373628e+02,\n",
              "       -7.55926331e+01, -1.10131190e+01, -4.00555824e+01, -9.92349128e+01,\n",
              "        5.34182599e+01,  1.18279382e+02,  5.02966603e+00, -4.90613989e+01,\n",
              "        1.22283545e+02,  2.15746800e+00,  5.83863984e+01,  1.72090393e+02,\n",
              "       -1.93376484e+02, -1.04463514e+02,  8.06052275e+01,  3.46122717e+01,\n",
              "       -5.83806379e+01, -1.41402615e+02, -3.43186684e+00,  5.20235593e+01,\n",
              "        6.23491937e+01, -2.93471600e+01,  1.12739613e+02,  3.87033710e+01,\n",
              "        7.38282095e+01,  1.18022935e+02,  4.29799818e+01, -1.62903788e+01,\n",
              "        7.20399953e+01, -1.20835625e+02,  1.23070438e+02, -3.96300912e+01,\n",
              "        1.04763148e+02, -1.34989614e+01, -1.22784028e+02, -1.95307336e+01,\n",
              "        1.69092972e+02, -6.38229278e+01, -3.02771859e+01,  3.45344189e+01,\n",
              "        2.68190924e+01,  8.43815666e+01,  7.92775278e+01, -2.89024655e+01,\n",
              "       -3.48249546e+01,  8.10469351e+00,  4.61302618e+01, -8.12594611e+01,\n",
              "        1.49674473e+02, -5.72693395e+01, -5.67917294e+01, -1.53958482e+02,\n",
              "       -2.52174907e+02,  1.34342282e+02,  1.10483533e+02,  4.06513895e+01,\n",
              "        1.05665195e+02, -1.16783869e+02, -1.21342260e+02,  4.09924388e-01,\n",
              "        1.89882796e+02,  7.23932658e+00,  1.18239977e+02,  3.20578204e+01,\n",
              "       -1.20663129e+02,  1.15155236e+02,  9.39491928e+01,  1.20924281e+02,\n",
              "       -7.49124402e+01,  8.74955336e+01,  4.79229580e+01,  3.82232973e+01,\n",
              "       -1.26516736e+02,  1.01183719e+01,  1.51033740e+02, -1.53832136e+02,\n",
              "       -2.62895761e+02,  6.63756592e+01,  7.49280686e+01,  6.60402741e+01,\n",
              "       -6.86139664e+01,  4.40728682e+01,  1.61648384e+02,  3.51684172e+01,\n",
              "        1.21960605e+02, -7.34731311e+01,  2.06339378e+02, -2.01581041e+02,\n",
              "       -6.23648672e+01, -1.66362961e+02, -2.33535493e+01,  5.34396733e+01])"
            ]
          },
          "metadata": {},
          "execution_count": 18
        }
      ]
    },
    {
      "cell_type": "code",
      "source": [
        "#Random Forest Regressor\n",
        "import sklearn.ensemble import RandomForestRegressor\n",
        "rf=RandomForestRegressor()\n",
        "rf.fit(x,y)"
      ],
      "metadata": {
        "colab": {
          "base_uri": "https://localhost:8080/",
          "height": 110
        },
        "id": "gbW9ru7HZmYU",
        "outputId": "d4f10392-9cbd-4570-bc94-e330b86f2f9f"
      },
      "execution_count": null,
      "outputs": [
        {
          "output_type": "error",
          "ename": "SyntaxError",
          "evalue": "invalid syntax (<ipython-input-1-5646ba14ce5f>, line 2)",
          "traceback": [
            "\u001b[0;36m  File \u001b[0;32m\"<ipython-input-1-5646ba14ce5f>\"\u001b[0;36m, line \u001b[0;32m2\u001b[0m\n\u001b[0;31m    import sklearn.ensemble import RandomForestRegressor\u001b[0m\n\u001b[0m                            ^\u001b[0m\n\u001b[0;31mSyntaxError\u001b[0m\u001b[0;31m:\u001b[0m invalid syntax\n"
          ]
        }
      ]
    },
    {
      "cell_type": "code",
      "source": [
        "y_pred=rf.predixt(x)\n",
        "print(y_pred)"
      ],
      "metadata": {
        "id": "Psgcg4jDZtt2"
      },
      "execution_count": null,
      "outputs": []
    },
    {
      "cell_type": "code",
      "source": [
        "from sklearn.metrics import r2_score\n",
        "r2_score=r2_score(y,y_pred)\n",
        "r2_score"
      ],
      "metadata": {
        "id": "wQlHOnB6Zzki"
      },
      "execution_count": null,
      "outputs": []
    }
  ]
}